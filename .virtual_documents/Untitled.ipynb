import numpy as np
import pandas as pd
import matplotlib.pyplot as plt
import seaborn as sns
from sklearn.model_selection import train_test_split
from sklearn.ensemble import RandomForestClassifier
from sklearn.metrics import accuracy_score


wine_dataset = pd.read_csv('winequality-red.csv')


wine_dataset.shape


wine_dataset.head()


wine_dataset.isnull().sum()


wine_dataset.describe()


sns.catplot(x='quality', data=wine_dataset, kind='count')


plot = plt.figure(figsize=(5,5))
sns.barplot(x='quality', y='volatile acidity', data=wine_dataset)


plot = plt.figure(figsize=(5,5))
sns.barplot(x='quality', y='citric acid', data=wine_dataset)


correlation = wine_dataset.corr()


plt.figure(figsize=(10,10))
sns.heatmap(correlation, cbar=True,square=True, fmt='.1f', annot=True, annot_kws={'size':8}, cmap='Blues')


X =wine_dataset.drop('quality', axis=1)


print(X)


X


Y = wine_dataset['quality'].apply(lambda y_value:1 if y_value>=7 else 0)


print(Y)


Y


X_train, X_test, Y_train, Y_test = train_test_split(X,Y, test_size=0.2, random_state=3)


print(Y.shape,Y_train.shape, Y_test.shape)


model = RandomForestClassifier()


model.fit(X_train, Y_train)



X_test_prediction = model.predict(X_test)
test_data_accuracy = accuracy_score(X_test_prediction, Y_test)


print('accuracy :', test_data_accuracy)


input_data = (7.5,0.5,0.36,6.1,0.071,17.0,102.0,0.9978,3.35,0.8,10.5)
input_data_as_numpy_array = np.asarray(input_data)
input_data_reshaped = input_data_as_numpy_array.reshape(1,-1)
prediction = model.predict(input_data_reshaped)
print(prediction)
if (prediction[0]==1):
    print('vin de bonne qualité')
else:
    print('vin de mauvaise qualité')



